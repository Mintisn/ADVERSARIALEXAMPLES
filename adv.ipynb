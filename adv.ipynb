{
 "cells": [
  {
   "cell_type": "code",
   "execution_count": 3,
   "metadata": {},
   "outputs": [],
   "source": [
    "import torch\n",
    "import torchvision\n",
    "from torch.utils.data import DataLoader\n",
    "import torch.nn as nn\n",
    "import torch.nn.functional as F\n",
    "import torch.optim as optim\n",
    "import matplotlib.pyplot as plt"
   ]
  },
  {
   "cell_type": "code",
   "execution_count": 4,
   "metadata": {},
   "outputs": [],
   "source": [
    "cuda = torch.device('cuda')\n",
    "pretrained_model=\"./model.pth\""
   ]
  },
  {
   "cell_type": "markdown",
   "metadata": {},
   "source": [
    "## NET"
   ]
  },
  {
   "cell_type": "code",
   "execution_count": 5,
   "metadata": {},
   "outputs": [],
   "source": [
    "class Net(nn.Module):\n",
    "    def __init__(self):\n",
    "        super(Net, self).__init__()\n",
    "        self.conv1 = nn.Conv2d(1, 10, kernel_size=5)\n",
    "        self.conv2 = nn.Conv2d(10, 20, kernel_size=5)\n",
    "        self.conv2_drop = nn.Dropout2d()\n",
    "        self.fc1 = nn.Linear(320, 64)\n",
    "        self.fc2 = nn.Linear(64, 10)\n",
    "    def forward(self, x):\n",
    "        x = F.relu(F.max_pool2d(self.conv1(x), 2))\n",
    "        x = F.relu(F.max_pool2d(self.conv2_drop(self.conv2(x)), 2))\n",
    "        x = x.view(-1, 320)\n",
    "        x = F.relu(self.fc1(x))\n",
    "        x = F.dropout(x, training=self.training)\n",
    "        x = self.fc2(x)\n",
    "        return F.log_softmax(x)"
   ]
  },
  {
   "cell_type": "code",
   "execution_count": 6,
   "metadata": {},
   "outputs": [
    {
     "data": {
      "text/plain": [
       "<All keys matched successfully>"
      ]
     },
     "execution_count": 6,
     "metadata": {},
     "output_type": "execute_result"
    }
   ],
   "source": [
    "# 初始化网络\n",
    "model = Net().cuda()\n",
    "# 加载已经预训练的模型(没gpu没cuda支持的时候加载模型到cpu上计算)\n",
    "model.load_state_dict(torch.load(pretrained_model, map_location='cpu'))"
   ]
  },
  {
   "cell_type": "code",
   "execution_count": 7,
   "metadata": {},
   "outputs": [],
   "source": [
    "test_loader = torch.utils.data.DataLoader(\n",
    "    torchvision.datasets.MNIST('../data_row/', train=False, download=False,\n",
    "                               transform=torchvision.transforms.Compose([\n",
    "                                    torchvision.transforms.ToTensor()\n",
    "                               ])),\n",
    "    batch_size=2000, shuffle=True)"
   ]
  },
  {
   "cell_type": "code",
   "execution_count": 8,
   "metadata": {},
   "outputs": [],
   "source": [
    "def test():\n",
    "    model.eval()\n",
    "    test_loss = 0\n",
    "    correct = 0\n",
    "    with torch.no_grad():\n",
    "        for data, target in test_loader:\n",
    "            data=data.cuda()\n",
    "            target=target.cuda()\n",
    "            output = model(data)\n",
    "            test_loss += F.nll_loss(output, target, size_average=False).item()\n",
    "            pred = output.data.max(1, keepdim=True)[1]\n",
    "            correct += pred.eq(target.data.view_as(pred)).sum()\n",
    "    test_loss /= len(test_loader.dataset)\n",
    "    print('\\nTest set: Avg. loss: {:.4f}, Accuracy: {}/{} ({:.0f}%)\\n'.format(\n",
    "        test_loss, correct, len(test_loader.dataset),\n",
    "        100. * correct / len(test_loader.dataset)))"
   ]
  },
  {
   "cell_type": "code",
   "execution_count": 9,
   "metadata": {},
   "outputs": [
    {
     "name": "stderr",
     "output_type": "stream",
     "text": [
      "C:\\Users\\32571\\AppData\\Local\\Temp\\ipykernel_20916\\4224729980.py:16: UserWarning: Implicit dimension choice for log_softmax has been deprecated. Change the call to include dim=X as an argument.\n",
      "  return F.log_softmax(x)\n",
      "d:\\pytorch\\Anaconda3\\envs\\pytorch\\lib\\site-packages\\torch\\nn\\_reduction.py:42: UserWarning: size_average and reduce args will be deprecated, please use reduction='sum' instead.\n",
      "  warnings.warn(warning.format(ret))\n"
     ]
    },
    {
     "name": "stdout",
     "output_type": "stream",
     "text": [
      "\n",
      "Test set: Avg. loss: 0.0973, Accuracy: 9688/10000 (97%)\n",
      "\n"
     ]
    }
   ],
   "source": [
    "test()"
   ]
  },
  {
   "cell_type": "markdown",
   "metadata": {},
   "source": [
    "## 随机扰动"
   ]
  },
  {
   "cell_type": "code",
   "execution_count": 10,
   "metadata": {},
   "outputs": [],
   "source": [
    "def random_noise(image, epsilon=0.2):\n",
    "    # 通过调整输入图像的每个像素来创建扰动图像\n",
    "    perturbed_image = image + epsilon * torch.randn_like(image)\n",
    "    # 添加剪切以维持[0,1]范围\n",
    "    perturbed_image = torch.clamp(perturbed_image, 0, 1)\n",
    "    # 返回被扰动的图像\n",
    "    return perturbed_image\n",
    "\n",
    "def random_noise_test(epsilon=.2):\n",
    "    model.eval()\n",
    "\n",
    "    test_loss = 0\n",
    "    correct = 0\n",
    "    for data, target in test_loader:\n",
    "        data=data.cuda()\n",
    "        target=target.cuda()\n",
    "\n",
    "        plt.figure(figsize=(10, 4))\n",
    "        # 提取第一个数据的灰度图像\n",
    "        first_data = data[0, 0, :, :].to(\"cpu\")\n",
    "        # 显示灰度图像\n",
    "        plt.subplot(1,2,1)\n",
    "        plt.imshow(first_data, cmap='gray')\n",
    "        plt.axis('off')  # 不显示坐标轴\n",
    "\n",
    "        perturbed_data =random_noise(data,epsilon)\n",
    "\n",
    "        # 提取第一个数据的灰度图像\n",
    "        first_data = perturbed_data[0, 0, :, :].to(\"cpu\")\n",
    "        first_data =first_data.detach().numpy()\n",
    "        # 显示灰度图像\n",
    "        plt.subplot(1,2,2)\n",
    "        plt.imshow(first_data, cmap='gray')\n",
    "        plt.axis('off')  # 不显示坐标轴\n",
    "        plt.show()\n",
    "\n",
    "        output = model(perturbed_data)\n",
    "        test_loss += F.nll_loss(output, target, size_average=False).item()\n",
    "        pred = output.data.max(1, keepdim=True)[1]\n",
    "        correct += pred.eq(target.data.view_as(pred)).sum()\n",
    "    test_loss /= len(test_loader.dataset)\n",
    "    print('\\nTest set: Avg. loss: {:.4f}, Accuracy: {}/{} ({:.0f}%)\\n'.format(\n",
    "        test_loss, correct, len(test_loader.dataset),\n",
    "        100. * correct / len(test_loader.dataset)))"
   ]
  },
  {
   "cell_type": "code",
   "execution_count": 11,
   "metadata": {},
   "outputs": [
    {
     "data": {
      "image/png": "[encoded data removed]",
      "text/plain": [
       "<Figure size 720x288 with 2 Axes>"
      ]
     },
     "metadata": {
      "needs_background": "light"
     },
     "output_type": "display_data"
    },
    {
     "name": "stderr",
     "output_type": "stream",
     "text": [
      "C:\\Users\\32571\\AppData\\Local\\Temp\\ipykernel_20916\\4224729980.py:16: UserWarning: Implicit dimension choice for log_softmax has been deprecated. Change the call to include dim=X as an argument.\n",
      "  return F.log_softmax(x)\n"
     ]
    },
    {
     "data": {
      "image/png": "[encoded data removed]",
      "text/plain": [
       "<Figure size 720x288 with 2 Axes>"
      ]
     },
     "metadata": {
      "needs_background": "light"
     },
     "output_type": "display_data"
    },
    {
     "data": {
      "image/png": "[encoded data removed]",
      "text/plain": [
       "<Figure size 720x288 with 2 Axes>"
      ]
     },
     "metadata": {
      "needs_background": "light"
     },
     "output_type": "display_data"
    },
    {
     "data": {
      "image/png": "[encoded data removed]",
      "text/plain": [
       "<Figure size 720x288 with 2 Axes>"
      ]
     },
     "metadata": {
      "needs_background": "light"
     },
     "output_type": "display_data"
    },
    {
     "data": {
      "image/png": "[encoded data removed]",
      "text/plain": [
       "<Figure size 720x288 with 2 Axes>"
      ]
     },
     "metadata": {
      "needs_background": "light"
     },
     "output_type": "display_data"
    },
    {
     "name": "stdout",
     "output_type": "stream",
     "text": [
      "\n",
      "Test set: Avg. loss: 0.1206, Accuracy: 9663/10000 (97%)\n",
      "\n"
     ]
    }
   ],
   "source": [
    "random_noise_test()"
   ]
  },
  {
   "cell_type": "markdown",
   "metadata": {},
   "source": [
    "## FGSM"
   ]
  },
  {
   "cell_type": "code",
   "execution_count": 12,
   "metadata": {},
   "outputs": [],
   "source": [
    "def fgsm(image, epsilon, data_grad):\n",
    "    sign_data_grad = data_grad.sign()\n",
    "    perturbed_image = image + epsilon * sign_data_grad\n",
    "    perturbed_image = torch.clamp(perturbed_image, 0, 1)\n",
    "    return perturbed_image\n",
    "\n",
    "def fgsm_test(epsilon=0.07):\n",
    "\n",
    "    test_loss = 0\n",
    "    correct = 0\n",
    "    for data, target in test_loader:\n",
    "        data=data.cuda()\n",
    "        target=target.cuda()\n",
    "\n",
    "        plt.figure(figsize=(10, 4))\n",
    "        # 提取第一个数据的灰度图像\n",
    "        first_data = data[0, 0, :, :].to(\"cpu\")\n",
    "        # 显示灰度图像\n",
    "        plt.subplot(1,2,1)\n",
    "        plt.imshow(first_data, cmap='gray')\n",
    "        plt.axis('off')  # 不显示坐标轴\n",
    "\n",
    "        data.requires_grad=True\n",
    "        output = model(data)\n",
    "        # 计算损失\n",
    "        loss = F.nll_loss(output, target)\n",
    "        # 将所有现有的渐变归零\n",
    "        model.zero_grad()\n",
    "        # 计算后向传递模型的梯度\n",
    "        loss.backward()\n",
    "        # 收集datagrad\n",
    "        data_grad = data.grad.data\n",
    "\n",
    "        perturbed_data =fgsm(data,epsilon,data_grad)\n",
    "\n",
    "        # 提取第一个数据的灰度图像\n",
    "        first_data = perturbed_data[0, 0, :, :].to(\"cpu\")\n",
    "        first_data =first_data.detach().numpy()\n",
    "        # 显示灰度图像\n",
    "        plt.subplot(1,2,2)\n",
    "        plt.imshow(first_data, cmap='gray')\n",
    "        plt.axis('off')  # 不显示坐标轴\n",
    "        plt.show()\n",
    "\n",
    "        output = model(perturbed_data)\n",
    "        test_loss += F.nll_loss(output, target, size_average=False).item()\n",
    "        pred = output.data.max(1, keepdim=True)[1]\n",
    "        correct += pred.eq(target.data.view_as(pred)).sum()\n",
    "    test_loss /= len(test_loader.dataset)\n",
    "    print('\\nTest set: Avg. loss: {:.4f}, Accuracy: {}/{} ({:.0f}%)\\n'.format(\n",
    "        test_loss, correct, len(test_loader.dataset),\n",
    "        100. * correct / len(test_loader.dataset)))\n"
   ]
  },
  {
   "cell_type": "code",
   "execution_count": 13,
   "metadata": {},
   "outputs": [
    {
     "name": "stderr",
     "output_type": "stream",
     "text": [
      "C:\\Users\\32571\\AppData\\Local\\Temp\\ipykernel_20916\\4224729980.py:16: UserWarning: Implicit dimension choice for log_softmax has been deprecated. Change the call to include dim=X as an argument.\n",
      "  return F.log_softmax(x)\n"
     ]
    },
    {
     "data": {
      "image/png": "[encoded data removed]",
      "text/plain": [
       "<Figure size 720x288 with 2 Axes>"
      ]
     },
     "metadata": {
      "needs_background": "light"
     },
     "output_type": "display_data"
    },
    {
     "data": {
      "image/png": "[encoded data removed]",
      "text/plain": [
       "<Figure size 720x288 with 2 Axes>"
      ]
     },
     "metadata": {
      "needs_background": "light"
     },
     "output_type": "display_data"
    },
    {
     "data": {
      "image/png": "[encoded data removed]",
      "text/plain": [
       "<Figure size 720x288 with 2 Axes>"
      ]
     },
     "metadata": {
      "needs_background": "light"
     },
     "output_type": "display_data"
    },
    {
     "data": {
      "image/png": "[encoded data removed]",
      "text/plain": [
       "<Figure size 720x288 with 2 Axes>"
      ]
     },
     "metadata": {
      "needs_background": "light"
     },
     "output_type": "display_data"
    },
    {
     "data": {
      "image/png": "[encoded data removed]",
      "text/plain": [
       "<Figure size 720x288 with 2 Axes>"
      ]
     },
     "metadata": {
      "needs_background": "light"
     },
     "output_type": "display_data"
    },
    {
     "name": "stdout",
     "output_type": "stream",
     "text": [
      "\n",
      "Test set: Avg. loss: 0.3617, Accuracy: 8839/10000 (88%)\n",
      "\n"
     ]
    }
   ],
   "source": [
    "model.eval()\n",
    "fgsm_test()"
   ]
  },
  {
   "cell_type": "markdown",
   "metadata": {},
   "source": [
    "## PGD"
   ]
  },
  {
   "cell_type": "code",
   "execution_count": 14,
   "metadata": {},
   "outputs": [],
   "source": [
    "def pgd(model, image, epsilon=0.1, alpha=0.01, num_iter=20):\n",
    "    perturbed_image = image.clone().detach()\n",
    "    perturbed_image.requires_grad = True\n",
    "    \n",
    "    for _ in range(num_iter):\n",
    "        model.eval()\n",
    "        logits = model(perturbed_image)\n",
    "        predicted_label = logits.argmax(dim=1)  # Get the predicted label\n",
    "\n",
    "        loss = torch.nn.functional.cross_entropy(logits, predicted_label)\n",
    "\n",
    "        model.zero_grad()\n",
    "        loss.backward()\n",
    "\n",
    "        with torch.no_grad():\n",
    "            data_grad = perturbed_image.grad.data\n",
    "            sign_data_grad = data_grad.sign()\n",
    "\n",
    "            perturbed_image = perturbed_image + alpha * sign_data_grad\n",
    "            perturbed_image = torch.max(torch.min(perturbed_image, image + epsilon), image - epsilon)\n",
    "            perturbed_image = torch.clamp(perturbed_image, 0, 1)\n",
    "        \n",
    "        perturbed_image.requires_grad = True  # Re-enable gradient computation\n",
    "    perturbed_image = torch.clamp(perturbed_image, 0, 1)\n",
    "    return perturbed_image\n",
    "\n",
    "def pgd_test(epsilon=0.45):\n",
    "    model.eval()\n",
    "\n",
    "    test_loss = 0\n",
    "    correct = 0\n",
    "    for data, target in test_loader:\n",
    "        data=data.cuda()\n",
    "        target=target.cuda()\n",
    "        plt.figure(figsize=(10, 4))\n",
    "        # 提取第一个数据的灰度图像\n",
    "        first_data = data[0, 0, :, :].to(\"cpu\")\n",
    "        # 显示灰度图像\n",
    "        plt.subplot(1,2,1)\n",
    "        plt.imshow(first_data, cmap='gray')\n",
    "        plt.axis('off')  # 不显示坐标轴\n",
    "        \n",
    "        perturbed_data =random_noise(data,epsilon=0.01)\n",
    "        perturbed_data =pgd(model,perturbed_data)\n",
    "\n",
    "        # 提取第一个数据的灰度图像\n",
    "        first_data = perturbed_data[0, 0, :, :].to(\"cpu\")\n",
    "        first_data =first_data.detach().numpy()\n",
    "        # 显示灰度图像\n",
    "        plt.subplot(1,2,2)\n",
    "        plt.imshow(first_data, cmap='gray')\n",
    "        plt.axis('off')  # 不显示坐标轴\n",
    "        plt.show()\n",
    "\n",
    "\n",
    "        output = model(perturbed_data)\n",
    "        test_loss += F.nll_loss(output, target, size_average=False).item()\n",
    "        pred = output.data.max(1, keepdim=True)[1]\n",
    "        correct += pred.eq(target.data.view_as(pred)).sum()\n",
    "    test_loss /= len(test_loader.dataset)\n",
    "    print('\\nTest set: Avg. loss: {:.4f}, Accuracy: {}/{} ({:.0f}%)\\n'.format(\n",
    "        test_loss, correct, len(test_loader.dataset),\n",
    "        100. * correct / len(test_loader.dataset)))"
   ]
  },
  {
   "cell_type": "code",
   "execution_count": 15,
   "metadata": {},
   "outputs": [
    {
     "name": "stderr",
     "output_type": "stream",
     "text": [
      "C:\\Users\\32571\\AppData\\Local\\Temp\\ipykernel_20916\\4224729980.py:16: UserWarning: Implicit dimension choice for log_softmax has been deprecated. Change the call to include dim=X as an argument.\n",
      "  return F.log_softmax(x)\n"
     ]
    },
    {
     "data": {
      "image/png": "[encoded data removed]",
      "text/plain": [
       "<Figure size 720x288 with 2 Axes>"
      ]
     },
     "metadata": {
      "needs_background": "light"
     },
     "output_type": "display_data"
    },
    {
     "data": {
      "image/png": "[encoded data removed]",
      "text/plain": [
       "<Figure size 720x288 with 2 Axes>"
      ]
     },
     "metadata": {
      "needs_background": "light"
     },
     "output_type": "display_data"
    },
    {
     "data": {
      "image/png": "[encoded data removed]",
      "text/plain": [
       "<Figure size 720x288 with 2 Axes>"
      ]
     },
     "metadata": {
      "needs_background": "light"
     },
     "output_type": "display_data"
    },
    {
     "data": {
      "image/png": "[encoded data removed]",
      "text/plain": [
       "<Figure size 720x288 with 2 Axes>"
      ]
     },
     "metadata": {
      "needs_background": "light"
     },
     "output_type": "display_data"
    },
    {
     "data": {
      "image/png": "[encoded data removed]",
      "text/plain": [
       "<Figure size 720x288 with 2 Axes>"
      ]
     },
     "metadata": {
      "needs_background": "light"
     },
     "output_type": "display_data"
    },
    {
     "name": "stdout",
     "output_type": "stream",
     "text": [
      "\n",
      "Test set: Avg. loss: 0.3490, Accuracy: 8540/10000 (85%)\n",
      "\n"
     ]
    }
   ],
   "source": [
    "pgd_test()"
   ]
  },
  {
   "cell_type": "markdown",
   "metadata": {},
   "source": [
    "## 带动量的PGD"
   ]
  },
  {
   "cell_type": "code",
   "execution_count": 16,
   "metadata": {},
   "outputs": [],
   "source": [
    "def m_pgd(model, image, epsilon=0.1, alpha=0.02, num_iter=10 ,momentum_factor=0.2):\n",
    "    perturbed_image = image.clone().detach()\n",
    "    perturbed_image.requires_grad = True\n",
    "    momentum = torch.zeros_like(perturbed_image)\n",
    "\n",
    "    for _ in range(num_iter):\n",
    "        model.eval()\n",
    "        logits = model(perturbed_image)\n",
    "        predicted_label = logits.argmax(dim=1)  # Get the predicted label\n",
    "\n",
    "        loss = torch.nn.functional.cross_entropy(logits, predicted_label)\n",
    "\n",
    "        model.zero_grad()\n",
    "        loss.backward()\n",
    "\n",
    "        with torch.no_grad():\n",
    "            data_grad = perturbed_image.grad.data\n",
    "            sign_data_grad = data_grad.sign()\n",
    "\n",
    "            momentum = momentum_factor * momentum + sign_data_grad\n",
    "            perturbed_image = perturbed_image + alpha * momentum\n",
    "            perturbed_image = torch.max(torch.min(perturbed_image, image + epsilon), image - epsilon)\n",
    "            perturbed_image = torch.clamp(perturbed_image, 0, 1)\n",
    "        \n",
    "        perturbed_image.requires_grad = True  # Re-enable gradient computation\n",
    "    perturbed_image = torch.clamp(perturbed_image, 0, 1)\n",
    "    return perturbed_image\n",
    "\n",
    "def m_pgd_test(epsilon=0.45):\n",
    "    model.eval()\n",
    "\n",
    "    test_loss = 0\n",
    "    correct = 0\n",
    "    for data, target in test_loader:\n",
    "        data=data.cuda()\n",
    "        target=target.cuda()\n",
    "        plt.figure(figsize=(10, 4))\n",
    "        # 提取第一个数据的灰度图像\n",
    "        first_data = data[0, 0, :, :].to(\"cpu\")\n",
    "        # 显示灰度图像\n",
    "        plt.subplot(1,2,1)\n",
    "        plt.imshow(first_data, cmap='gray')\n",
    "        plt.axis('off')  # 不显示坐标轴\n",
    "        \n",
    "        perturbed_data =random_noise(data,epsilon=0.01)\n",
    "        perturbed_data =m_pgd(model,perturbed_data)\n",
    "\n",
    "        # 提取第一个数据的灰度图像\n",
    "        first_data = perturbed_data[0, 0, :, :].to(\"cpu\")\n",
    "        first_data =first_data.detach().numpy()\n",
    "        # 显示灰度图像\n",
    "        plt.subplot(1,2,2)\n",
    "        plt.imshow(first_data, cmap='gray')\n",
    "        plt.axis('off')  # 不显示坐标轴\n",
    "        plt.show()\n",
    "\n",
    "\n",
    "        output = model(perturbed_data)\n",
    "        test_loss += F.nll_loss(output, target, size_average=False).item()\n",
    "        pred = output.data.max(1, keepdim=True)[1]\n",
    "        correct += pred.eq(target.data.view_as(pred)).sum()\n",
    "    test_loss /= len(test_loader.dataset)\n",
    "    print('\\nTest set: Avg. loss: {:.4f}, Accuracy: {}/{} ({:.0f}%)\\n'.format(\n",
    "        test_loss, correct, len(test_loader.dataset),\n",
    "        100. * correct / len(test_loader.dataset)))"
   ]
  },
  {
   "cell_type": "code",
   "execution_count": 17,
   "metadata": {},
   "outputs": [
    {
     "name": "stderr",
     "output_type": "stream",
     "text": [
      "C:\\Users\\32571\\AppData\\Local\\Temp\\ipykernel_20916\\4224729980.py:16: UserWarning: Implicit dimension choice for log_softmax has been deprecated. Change the call to include dim=X as an argument.\n",
      "  return F.log_softmax(x)\n"
     ]
    },
    {
     "data": {
      "image/png": "[encoded data removed]",
      "text/plain": [
       "<Figure size 720x288 with 2 Axes>"
      ]
     },
     "metadata": {
      "needs_background": "light"
     },
     "output_type": "display_data"
    },
    {
     "data": {
      "image/png": "[encoded data removed]",
      "text/plain": [
       "<Figure size 720x288 with 2 Axes>"
      ]
     },
     "metadata": {
      "needs_background": "light"
     },
     "output_type": "display_data"
    },
    {
     "data": {
      "image/png": "[encoded data removed]",
      "text/plain": [
       "<Figure size 720x288 with 2 Axes>"
      ]
     },
     "metadata": {
      "needs_background": "light"
     },
     "output_type": "display_data"
    },
    {
     "data": {
      "image/png": "[encoded data removed]",
      "text/plain": [
       "<Figure size 720x288 with 2 Axes>"
      ]
     },
     "metadata": {
      "needs_background": "light"
     },
     "output_type": "display_data"
    },
    {
     "data": {
      "image/png": "[encoded data removed]",
      "text/plain": [
       "<Figure size 720x288 with 2 Axes>"
      ]
     },
     "metadata": {
      "needs_background": "light"
     },
     "output_type": "display_data"
    },
    {
     "name": "stdout",
     "output_type": "stream",
     "text": [
      "\n",
      "Test set: Avg. loss: 0.3598, Accuracy: 8582/10000 (86%)\n",
      "\n"
     ]
    }
   ],
   "source": [
    "m_pgd_test()"
   ]
  },
  {
   "cell_type": "markdown",
   "metadata": {},
   "source": [
    "## APGD"
   ]
  },
  {
   "cell_type": "code",
   "execution_count": 44,
   "metadata": {},
   "outputs": [],
   "source": [
    "def apgd(model, image, epsilon=0.13, num_iter=10, p=11):\n",
    "    perturbed_image = image.clone().detach()\n",
    "    perturbed_image.requires_grad = True\n",
    "    \n",
    "    alpha = 1\n",
    "    \n",
    "    for _ in range(num_iter):\n",
    "        model.eval()\n",
    "        logits = model(perturbed_image)\n",
    "        predicted_label = logits.argmax(dim=1)\n",
    "\n",
    "        loss = torch.nn.functional.cross_entropy(logits, predicted_label)\n",
    "\n",
    "        model.zero_grad()\n",
    "        loss.backward()\n",
    "\n",
    "        with torch.no_grad():\n",
    "            data_grad = perturbed_image.grad.data\n",
    "            norm_data_grad = data_grad.norm()\n",
    "            scaled_data_grad = data_grad / (norm_data_grad + 1e-10)\n",
    "\n",
    "            # Adaptive\n",
    "            eps_iter = alpha * epsilon / norm_data_grad\n",
    "            alpha = epsilon * (p - 1) / (p + 1) * alpha + eps_iter\n",
    "\n",
    "            perturbed_image = perturbed_image + eps_iter * scaled_data_grad\n",
    "            perturbed_image = torch.max(torch.min(perturbed_image, image + epsilon), image - epsilon)\n",
    "            perturbed_image = torch.clamp(perturbed_image, 0, 1)\n",
    "        \n",
    "        perturbed_image.requires_grad = True  # Re-enable gradient computation\n",
    "    perturbed_image = torch.clamp(perturbed_image, 0, 1)\n",
    "    return perturbed_image\n",
    "\n",
    "\n",
    "def apgd_test():\n",
    "    model.eval()\n",
    "\n",
    "    test_loss = 0\n",
    "    correct = 0\n",
    "    for data, target in test_loader:\n",
    "        data=data.cuda()\n",
    "        target=target.cuda()\n",
    "        plt.figure(figsize=(10, 4))\n",
    "        # 提取第一个数据的灰度图像\n",
    "        first_data = data[0, 0, :, :].to(\"cpu\")\n",
    "        # 显示灰度图像\n",
    "        plt.subplot(1,2,1)\n",
    "        plt.imshow(first_data, cmap='gray')\n",
    "        plt.axis('off')  # 不显示坐标轴\n",
    "        \n",
    "        perturbed_data =random_noise(data,epsilon=0.01)\n",
    "        perturbed_data =apgd(model,perturbed_data)\n",
    "\n",
    "        # 提取第一个数据的灰度图像\n",
    "        first_data = perturbed_data[0, 0, :, :].to(\"cpu\")\n",
    "        first_data =first_data.detach().numpy()\n",
    "        # 显示灰度图像\n",
    "        plt.subplot(1,2,2)\n",
    "        plt.imshow(first_data, cmap='gray')\n",
    "        plt.axis('off')  # 不显示坐标轴\n",
    "        plt.show()\n",
    "\n",
    "\n",
    "        output = model(perturbed_data)\n",
    "        test_loss += F.nll_loss(output, target, size_average=False).item()\n",
    "        pred = output.data.max(1, keepdim=True)[1]\n",
    "        correct += pred.eq(target.data.view_as(pred)).sum()\n",
    "    test_loss /= len(test_loader.dataset)\n",
    "    print('\\nTest set: Avg. loss: {:.4f}, Accuracy: {}/{} ({:.0f}%)\\n'.format(\n",
    "        test_loss, correct, len(test_loader.dataset),\n",
    "        100. * correct / len(test_loader.dataset)))"
   ]
  },
  {
   "cell_type": "code",
   "execution_count": 45,
   "metadata": {},
   "outputs": [
    {
     "name": "stderr",
     "output_type": "stream",
     "text": [
      "C:\\Users\\32571\\AppData\\Local\\Temp\\ipykernel_20916\\4224729980.py:16: UserWarning: Implicit dimension choice for log_softmax has been deprecated. Change the call to include dim=X as an argument.\n",
      "  return F.log_softmax(x)\n"
     ]
    },
    {
     "data": {
      "image/png": "[encoded data removed]",
      "text/plain": [
       "<Figure size 720x288 with 2 Axes>"
      ]
     },
     "metadata": {
      "needs_background": "light"
     },
     "output_type": "display_data"
    },
    {
     "data": {
      "image/png": "[encoded data removed]",
      "text/plain": [
       "<Figure size 720x288 with 2 Axes>"
      ]
     },
     "metadata": {
      "needs_background": "light"
     },
     "output_type": "display_data"
    },
    {
     "data": {
      "image/png": "[encoded data removed]",
      "text/plain": [
       "<Figure size 720x288 with 2 Axes>"
      ]
     },
     "metadata": {
      "needs_background": "light"
     },
     "output_type": "display_data"
    },
    {
     "data": {
      "image/png": "[encoded data removed]",
      "text/plain": [
       "<Figure size 720x288 with 2 Axes>"
      ]
     },
     "metadata": {
      "needs_background": "light"
     },
     "output_type": "display_data"
    },
    {
     "data": {
      "image/png": "[encoded data removed]",
      "text/plain": [
       "<Figure size 720x288 with 2 Axes>"
      ]
     },
     "metadata": {
      "needs_background": "light"
     },
     "output_type": "display_data"
    },
    {
     "name": "stdout",
     "output_type": "stream",
     "text": [
      "\n",
      "Test set: Avg. loss: 0.5141, Accuracy: 8440/10000 (84%)\n",
      "\n"
     ]
    }
   ],
   "source": [
    "apgd_test()"
   ]
  }
 ],
 "metadata": {
  "kernelspec": {
   "display_name": "pytorch",
   "language": "python",
   "name": "python3"
  },
  "language_info": {
   "codemirror_mode": {
    "name": "ipython",
    "version": 3
   },
   "file_extension": ".py",
   "mimetype": "text/x-python",
   "name": "python",
   "nbconvert_exporter": "python",
   "pygments_lexer": "ipython3",
   "version": "3.9.7"
  },
  "orig_nbformat": 4
 },
 "nbformat": 4,
 "nbformat_minor": 2
}
